{
  "nbformat": 4,
  "nbformat_minor": 0,
  "metadata": {
    "colab": {
      "provenance": [],
      "authorship_tag": "ABX9TyMc0yyHlJamMpMDa3CVTZD8",
      "include_colab_link": true
    },
    "kernelspec": {
      "name": "python3",
      "display_name": "Python 3"
    },
    "language_info": {
      "name": "python"
    }
  },
  "cells": [
    {
      "cell_type": "markdown",
      "metadata": {
        "id": "view-in-github",
        "colab_type": "text"
      },
      "source": [
        "<a href=\"https://colab.research.google.com/github/BE02LEEJAEHOON/BE_02_-/blob/main/python_test.ipynb\" target=\"_parent\"><img src=\"https://colab.research.google.com/assets/colab-badge.svg\" alt=\"Open In Colab\"/></a>"
      ]
    },
    {
      "cell_type": "code",
      "source": [
        "# 주석은 이렇게 하는거다\n",
        "print(\"진짜 안보이는 거야?\")\n",
        "# print(\"신기하네?\")"
      ],
      "metadata": {
        "colab": {
          "base_uri": "https://localhost:8080/"
        },
        "id": "v5pYVZ-XNt9P",
        "outputId": "315a810e-3ac5-4b72-f7cd-654c7b432876"
      },
      "execution_count": 15,
      "outputs": [
        {
          "output_type": "stream",
          "name": "stdout",
          "text": [
            "진짜 안보이는 거야?\n"
          ]
        }
      ]
    },
    {
      "cell_type": "code",
      "source": [
        "for 동물 in (\"토끼\", \"사자\", \"푸바오\", \"호랑이\")\n",
        "  print(동물)\n",
        "  print(\"보러 갈래요?\")"
      ],
      "metadata": {
        "colab": {
          "base_uri": "https://localhost:8080/",
          "height": 144
        },
        "id": "LPdGqTbdO46V",
        "outputId": "9d3e7864-43f0-4399-ba60-f7e765d29e54"
      },
      "execution_count": 21,
      "outputs": [
        {
          "output_type": "error",
          "ename": "SyntaxError",
          "evalue": "ignored",
          "traceback": [
            "\u001b[0;36m  File \u001b[0;32m\"<ipython-input-21-5a1090f9c915>\"\u001b[0;36m, line \u001b[0;32m1\u001b[0m\n\u001b[0;31m    for 동물 in (\"토끼\", \"사자\", \"푸바오\", \"호랑이\")\u001b[0m\n\u001b[0m                                        ^\u001b[0m\n\u001b[0;31mSyntaxError\u001b[0m\u001b[0;31m:\u001b[0m expected ':'\n"
          ]
        }
      ]
    },
    {
      "cell_type": "markdown",
      "source": [
        "##사칙연산\n",
        "더하기 : +\n",
        "\n",
        "빼기 : -\n",
        "\n",
        "곱하기 : *\n",
        "\n",
        "나누기 :\n",
        "*   / : 우리가 알고 나누기와 동일한 기능기능\n",
        "*   항목 추가\n",
        "*   항목 추가\n",
        "\n",
        "\n",
        "\n",
        "\n",
        "\n",
        "\n",
        "거듭제곱"
      ],
      "metadata": {
        "id": "aXK_Tl0LQKVT"
      }
    },
    {
      "cell_type": "code",
      "source": [
        "# 더하기\n",
        "print(3+2)"
      ],
      "metadata": {
        "colab": {
          "base_uri": "https://localhost:8080/"
        },
        "id": "9qS-JEH9RU8K",
        "outputId": "892882c0-a297-4870-98ba-213bfbf35433"
      },
      "execution_count": 24,
      "outputs": [
        {
          "output_type": "stream",
          "name": "stdout",
          "text": [
            "5\n"
          ]
        }
      ]
    },
    {
      "cell_type": "code",
      "source": [
        "# 빼기\n",
        "print(3-1)"
      ],
      "metadata": {
        "colab": {
          "base_uri": "https://localhost:8080/"
        },
        "id": "udXwo9vgSyLo",
        "outputId": "74cb1513-71ef-4ef6-e548-9f11312b44c8"
      },
      "execution_count": 27,
      "outputs": [
        {
          "output_type": "stream",
          "name": "stdout",
          "text": [
            "2\n"
          ]
        }
      ]
    },
    {
      "cell_type": "code",
      "source": [
        "# 곱하기\n",
        "print(3*2)"
      ],
      "metadata": {
        "colab": {
          "base_uri": "https://localhost:8080/"
        },
        "id": "Qi7WZICrS5P8",
        "outputId": "37469dac-85d7-4c01-c6a4-e5bfebf6d500"
      },
      "execution_count": 29,
      "outputs": [
        {
          "output_type": "stream",
          "name": "stdout",
          "text": [
            "6\n"
          ]
        }
      ]
    },
    {
      "cell_type": "code",
      "source": [
        "# / 나누기\n",
        "print(7/2)"
      ],
      "metadata": {
        "colab": {
          "base_uri": "https://localhost:8080/"
        },
        "id": "Oeocp4lyTH-1",
        "outputId": "85033d6a-c177-406c-aa1d-d6d768f38281"
      },
      "execution_count": 31,
      "outputs": [
        {
          "output_type": "stream",
          "name": "stdout",
          "text": [
            "3.5\n"
          ]
        }
      ]
    },
    {
      "cell_type": "code",
      "source": [
        "# // 나누기\n",
        "print(7//2)\n",
        "\n",
        "# % 나누기\n",
        "print(7%2)"
      ],
      "metadata": {
        "colab": {
          "base_uri": "https://localhost:8080/"
        },
        "id": "hykuReCZTM29",
        "outputId": "289c5780-18a5-43b9-c8b6-8876f2fa2d7e"
      },
      "execution_count": 33,
      "outputs": [
        {
          "output_type": "stream",
          "name": "stdout",
          "text": [
            "3\n",
            "1\n"
          ]
        }
      ]
    },
    {
      "cell_type": "markdown",
      "source": [
        "내장함수 : divmod\n",
        "\n",
        ">내장함수 : 자주 사용하는 기능을 미리 만들어 놓은 것을 내장 함수라고 함\n",
        "\n",
        "**divmod** : 목과 나머지를 동시에 구해줌"
      ],
      "metadata": {
        "id": "Zp6qsoyWTfh0"
      }
    },
    {
      "cell_type": "code",
      "source": [
        "print(divmod(3, 2))\n",
        "print(divmod(7, 4))\n",
        "print(divmod(13, 2))\n",
        "print(divmod(19, 4))\n",
        "print(divmod(15, 4))\n",
        "\n",
        "print( 7//4, \",\" , 7%4)"
      ],
      "metadata": {
        "colab": {
          "base_uri": "https://localhost:8080/"
        },
        "id": "WpXxikFKUAjb",
        "outputId": "dd1d7045-fcf9-461c-b4b9-b7d99f5a5b9e"
      },
      "execution_count": 41,
      "outputs": [
        {
          "output_type": "stream",
          "name": "stdout",
          "text": [
            "(1, 1)\n",
            "(1, 3)\n",
            "(6, 1)\n",
            "(4, 3)\n",
            "(3, 3)\n",
            "1 , 3\n"
          ]
        }
      ]
    },
    {
      "cell_type": "markdown",
      "source": [
        "### 괄호\n",
        "\n",
        "> 수학에서 사용되는 괄호와 동일한 기능\n",
        "\n",
        "() : 괄호안에 있는 것을 먼저 계산\n",
        "\n",
        "사칙연산 순서 : 괄호 -> 곱셈 , 나눗셈 -> 덧셈 , 뺄셈"
      ],
      "metadata": {
        "id": "xgfK_q19U5Xn"
      }
    },
    {
      "cell_type": "code",
      "source": [
        "3 + 2 * 4"
      ],
      "metadata": {
        "colab": {
          "base_uri": "https://localhost:8080/"
        },
        "id": "kugXwq8aVSMD",
        "outputId": "0cf722b8-7c0e-4da4-812f-857955f19864"
      },
      "execution_count": 43,
      "outputs": [
        {
          "output_type": "execute_result",
          "data": {
            "text/plain": [
              "11"
            ]
          },
          "metadata": {},
          "execution_count": 43
        }
      ]
    },
    {
      "cell_type": "code",
      "source": [
        "(3+2)*4"
      ],
      "metadata": {
        "colab": {
          "base_uri": "https://localhost:8080/"
        },
        "id": "iKX568q8VWEs",
        "outputId": "c970c9b0-866c-4ce3-dc4a-c41e72add475"
      },
      "execution_count": 47,
      "outputs": [
        {
          "output_type": "execute_result",
          "data": {
            "text/plain": [
              "20"
            ]
          },
          "metadata": {},
          "execution_count": 47
        }
      ]
    },
    {
      "cell_type": "code",
      "source": [
        "divmod(3, 2)"
      ],
      "metadata": {
        "colab": {
          "base_uri": "https://localhost:8080/"
        },
        "id": "jrNuy5yNXm9b",
        "outputId": "84ca3355-9d1a-4624-e01b-fcc4c6760cc9"
      },
      "execution_count": 49,
      "outputs": [
        {
          "output_type": "execute_result",
          "data": {
            "text/plain": [
              "(1, 1)"
            ]
          },
          "metadata": {},
          "execution_count": 49
        }
      ]
    },
    {
      "cell_type": "code",
      "source": [
        "# 아아 : 5,000원 / 아샷추 : 6,500원\n",
        "# 아아 2잔 / 야삿추 3잔\n",
        "\n",
        "(5000 * 2) + (6500 * 3)"
      ],
      "metadata": {
        "colab": {
          "base_uri": "https://localhost:8080/"
        },
        "id": "mJLB66psX4F3",
        "outputId": "dcb3bac8-63a8-4351-ff03-f5c8b1e7670d"
      },
      "execution_count": 52,
      "outputs": [
        {
          "output_type": "execute_result",
          "data": {
            "text/plain": [
              "29500"
            ]
          },
          "metadata": {},
          "execution_count": 52
        }
      ]
    },
    {
      "cell_type": "code",
      "source": [
        "# 어제 아아 2잔이랑 아샷추 3잔 결제한 금액이 얼마였지?\n",
        "(5000 * 2) + (6500 * 3)"
      ],
      "metadata": {
        "colab": {
          "base_uri": "https://localhost:8080/"
        },
        "id": "U-D7_Uw4YHO0",
        "outputId": "812ffaac-6de1-47df-fa61-12fdf98ecaf4"
      },
      "execution_count": 53,
      "outputs": [
        {
          "output_type": "execute_result",
          "data": {
            "text/plain": [
              "29500"
            ]
          },
          "metadata": {},
          "execution_count": 53
        }
      ]
    },
    {
      "cell_type": "markdown",
      "source": [
        "계산된 결과값이 다 날아가는문제 ㅠㅠ 어케 해결함?"
      ],
      "metadata": {
        "id": "NcFaACGTYSZ7"
      }
    },
    {
      "cell_type": "markdown",
      "source": [
        "###변수란 ? (기본 중에 기본, 근본 중에 근본 , 코어 중에 코어)"
      ],
      "metadata": {
        "id": "CSsnsmdYYXw1"
      }
    },
    {
      "cell_type": "code",
      "source": [
        "# 하나의 값을 변수에 넣을 때\n",
        "num = 1\n",
        "print(num)\n",
        "\n",
        "# 두개의 값을 변수에 넣을 때\n",
        "num_1, num_2 = 1, 2\n",
        "print(num_1)\n",
        "print(num_2)\n",
        "\n",
        "print(num_1, num_2)"
      ],
      "metadata": {
        "colab": {
          "base_uri": "https://localhost:8080/"
        },
        "id": "O5TaiQpIYxhj",
        "outputId": "5db6c4e7-d4b4-4e04-b06f-f724c2a9d905"
      },
      "execution_count": 57,
      "outputs": [
        {
          "output_type": "stream",
          "name": "stdout",
          "text": [
            "1\n",
            "1\n",
            "2\n",
            "1 2\n"
          ]
        }
      ]
    },
    {
      "cell_type": "markdown",
      "source": [
        "1부터 5까지의 숫자를 더하는 문제를 풀어보자, 단 다음 숫자를 더하기 위해서는 매번 새로운 줄에 시작해야하는 조건이 있다"
      ],
      "metadata": {
        "id": "Ty5eS-wkZ3_S"
      }
    },
    {
      "cell_type": "code",
      "source": [
        "# 변수를 사용하지 않을 때\n",
        "# 이전에 계산된 결과를 저장할 수 있는 방법이 없음\n",
        "1 + 2\n",
        "1 + 2 + 3\n",
        "1 + 2 + 3 + 4\n",
        "1 + 2 + 3 + 4 + 5"
      ],
      "metadata": {
        "colab": {
          "base_uri": "https://localhost:8080/"
        },
        "id": "WnloBXxMZ-Mf",
        "outputId": "08d83552-9cc9-4731-e60a-3b0e6964fe2a"
      },
      "execution_count": 60,
      "outputs": [
        {
          "output_type": "execute_result",
          "data": {
            "text/plain": [
              "15"
            ]
          },
          "metadata": {},
          "execution_count": 60
        }
      ]
    },
    {
      "cell_type": "code",
      "source": [
        "# 변수를 사용 할 때\n",
        "# 이전에 계산된 결과를 저장해서 사용 할 수 있는 장점\n",
        "\n",
        "sum = 1 + 2\n",
        "sum = sum + 3\n",
        "sum = sum + 4\n",
        "sum = sum + 5\n",
        "\n",
        "print(sum)"
      ],
      "metadata": {
        "colab": {
          "base_uri": "https://localhost:8080/"
        },
        "id": "CPoMLdA4aL7q",
        "outputId": "34a629ff-0241-4b77-d0b0-d5793114e74c"
      },
      "execution_count": 61,
      "outputs": [
        {
          "output_type": "stream",
          "name": "stdout",
          "text": [
            "15\n"
          ]
        }
      ]
    },
    {
      "cell_type": "markdown",
      "source": [
        "###변수에 값을 넣는 것 => 할당\n",
        "\n",
        "sum = 1 + 2 => 1+2의 계산된 결과를 sum이라는 변수에 할당한다.  \n",
        "\n",
        "sum은 변수명이고 \"=\" 같다는 의미가 아니라 할당(assignment) 이라고 한다.  \n",
        "\n",
        "\"=\" : 할당 연산자  \n",
        "\"+\" : 산술 연산자  \n",
        "+= 산술 이후 바로 할당하는 문법  \n",
        "/=, -=, *= 모두 가능함  "
      ],
      "metadata": {
        "id": "x5enN7ARamaw"
      }
    },
    {
      "cell_type": "code",
      "source": [
        "# 변수를 사용하면서 사용 가능한 문법\n",
        "\n",
        "sum = 1 + 2\n",
        "sum = sum + 3\n",
        "sum = sum + 4\n",
        "sum = sum + 5\n",
        "\n",
        "print(sum)\n",
        "\n",
        "sum2 = 1+2\n",
        "sum2 += 3\n",
        "sum2 += 4\n",
        "sum2 += 5\n",
        "\n",
        "print(sum2)"
      ],
      "metadata": {
        "colab": {
          "base_uri": "https://localhost:8080/"
        },
        "id": "WujEBwIhbka-",
        "outputId": "77c93fc3-0108-4c08-8bcb-20444dd3ddf7"
      },
      "execution_count": 63,
      "outputs": [
        {
          "output_type": "stream",
          "name": "stdout",
          "text": [
            "15\n",
            "15\n"
          ]
        }
      ]
    },
    {
      "cell_type": "code",
      "source": [
        "# 주의 ! ! 선언되지 않은 변수를 사용할 경우 에러 발생\n",
        "\n",
        "sum3 = 0\n",
        "sum3 += 1\n",
        "\n",
        "sum3"
      ],
      "metadata": {
        "colab": {
          "base_uri": "https://localhost:8080/"
        },
        "id": "bSMvpUAucNC9",
        "outputId": "535ed0cf-90ae-4aed-c2b4-f44e62fdaea0"
      },
      "execution_count": 68,
      "outputs": [
        {
          "output_type": "execute_result",
          "data": {
            "text/plain": [
              "1"
            ]
          },
          "metadata": {},
          "execution_count": 68
        }
      ]
    },
    {
      "cell_type": "code",
      "source": [
        "# 변수에 어떠한 값도 넣고 싶지 않고 선언하는 방법\n",
        "\n",
        "nothing = None\n",
        "print(None)"
      ],
      "metadata": {
        "colab": {
          "base_uri": "https://localhost:8080/"
        },
        "id": "jWq1b_OFcuhG",
        "outputId": "64290724-ccaf-460f-be5a-18659c4756fa"
      },
      "execution_count": 74,
      "outputs": [
        {
          "output_type": "stream",
          "name": "stdout",
          "text": [
            "None\n"
          ]
        }
      ]
    },
    {
      "cell_type": "code",
      "source": [
        "#대소문자를 구분하는 변수\n",
        "BIG = \"크다\"\n",
        "big = \"작다\"\n",
        "\n",
        "print(BIG, big)"
      ],
      "metadata": {
        "colab": {
          "base_uri": "https://localhost:8080/"
        },
        "id": "PDYNxcrpdjZn",
        "outputId": "a13135b3-6a54-4bcc-8ac0-1be31423c972"
      },
      "execution_count": 79,
      "outputs": [
        {
          "output_type": "stream",
          "name": "stdout",
          "text": [
            "크다 작다\n"
          ]
        }
      ]
    },
    {
      "cell_type": "markdown",
      "source": [
        "스네이크케이스 (snake case)\n",
        "변수명 : snake_case <= 언더바가 뱀이냐 ㅇㅅㅇ?\n",
        "\n",
        "카멜케이스 (camel case)\n",
        "변수명 : camelCase  <= 낙타가 보이냐 ㅇㅅㅇ?\n"
      ],
      "metadata": {
        "id": "nIEDOxaYeEAF"
      }
    },
    {
      "cell_type": "code",
      "source": [
        "# 우리는 변수를 만들때 스네이크케이스로 진행합니다. 그리고 언더바는 2개를 적용시켜주세요\n",
        "# 개발에 관련된 여러 조건을 명시하는 것들을 코드 컨벤션이라고 합니다.\n",
        "\n",
        "box__shose = \"스니커즈\"\n",
        "box__hat = \"슈프림 모자\"\n",
        "\n",
        "print(box__shose)\n",
        "print(box__hat)"
      ],
      "metadata": {
        "colab": {
          "base_uri": "https://localhost:8080/"
        },
        "id": "DumRgc4Het3n",
        "outputId": "ebfe6e94-31c3-4e23-e6db-f96d6d4d5387"
      },
      "execution_count": 81,
      "outputs": [
        {
          "output_type": "stream",
          "name": "stdout",
          "text": [
            "스니커즈\n",
            "슈프림 모자\n"
          ]
        }
      ]
    },
    {
      "cell_type": "code",
      "source": [
        "#print() 대표적인 포메팅 3가지 f-string : print(f' {변수명}')\n",
        "\n",
        "me = \"파머\"\n",
        "print(f'{me}만 빼고 고양이 다 있어')"
      ],
      "metadata": {
        "colab": {
          "base_uri": "https://localhost:8080/"
        },
        "id": "KMRC9D-jfKi2",
        "outputId": "788324d8-54c2-4176-8760-c237bde89249"
      },
      "execution_count": 86,
      "outputs": [
        {
          "output_type": "stream",
          "name": "stdout",
          "text": [
            "파머만 빼고 고양이 다 있어\n"
          ]
        }
      ]
    },
    {
      "cell_type": "code",
      "source": [
        "# 붕어빵 철이 돌아왔죠?\n",
        "# 팥 : 2000원, 슈크림 : 2500원, 잡채 : 3000원\n",
        "# 무인 주문기계를 만들어주세요\n",
        "# 잡채 3개, 슈크림 2개를 주문하면\n",
        "# \"주문이 완료되었습니다. 슈크림 2개, 잡채 3개 총 5개 결제금액은 14000원 입니다.\"\n",
        "# 이 문구로 출력되도록 코드를 작성해주세요.\n",
        "# 변수를 만들 때 스네이크 케이스에 언더바는 2개 / print()문의 포메팅 f-string\n",
        "\n",
        "# 변수값 입력\n",
        "fish__p, fish__s, fish__j = \"팥\", \"슈크림\", \"잡채\"\n",
        "fish__P__price, fish__s__price,fish__j__price = 2000, 2500, 3000\n",
        "order__j, order__s = 3, 2\n",
        "\n",
        "# 붕어빵 계산 값\n",
        "order__j__pay, order__s__pay = fish__j__price *3, fish__s__price *2\n",
        "\n",
        "#구매 총 갯수\n",
        "total = order__j + order__s\n",
        "\n",
        "#구매 총 금액\n",
        "total__pay = order__j__pay + order__s__pay\n",
        "\n",
        "#출력\n",
        "print(f'주문이 완료되었습니다. {fish__j} {order__j}개, {fish__s} {order__s}개 총 {total}개 결제 금액은 {total__pay}원 입니다.')\n",
        "\n"
      ],
      "metadata": {
        "colab": {
          "base_uri": "https://localhost:8080/"
        },
        "id": "VCwn-Oiefzny",
        "outputId": "e7c5ebcc-db9c-4187-85fb-c8871c7e4719"
      },
      "execution_count": 96,
      "outputs": [
        {
          "output_type": "stream",
          "name": "stdout",
          "text": [
            "주문이 완료되었습니다. 잡채 3개, 슈크림 2개 총 5개 결제 금액은 14000원 입니다.\n"
          ]
        }
      ]
    },
    {
      "cell_type": "markdown",
      "source": [
        "변수 : 하나의 값을 저장 할 수 있는 공간을 생성하는 것\n",
        "\n",
        "변수명을 만들때 컨벤션\n",
        "변수를 표현하는 방법 : 스네이크 , 카멜\n",
        "변수를 활용해서 다양한 문제 풀어보기\n",
        "\n",
        "에프 스트링...ㄹ .ㅇㄹㅇ ㅇㄹ ㅇㄹ\n"
      ],
      "metadata": {
        "id": "WtyBxNrSn8fW"
      }
    },
    {
      "cell_type": "code",
      "source": [
        "# 1. int (integer) : 정수\n",
        "# 2. float (float) : 실수\n",
        "# 3. str (string) : 문자\n",
        "# 4. bool (bool, boolean) : 참 또는 거짓, true 또는 false, 1 또는 0\n",
        "\n",
        "# 5. list\n",
        "# 6. tuple\n",
        "# 7. dict\n",
        "# 8. set"
      ],
      "metadata": {
        "id": "1hpajG_Ipr9F"
      },
      "execution_count": 99,
      "outputs": []
    },
    {
      "cell_type": "code",
      "source": [
        "# 정수 : 1, 2, 3, 4, -1, -2, -3\n",
        "# 실수 : 1.2, 3.3, 4.5, 4.0\n",
        "\n",
        "9.0 + 2"
      ],
      "metadata": {
        "colab": {
          "base_uri": "https://localhost:8080/"
        },
        "id": "GSV2khwEqY0C",
        "outputId": "2499f896-61ba-43ff-ef6b-ed0a8f20f35f"
      },
      "execution_count": 101,
      "outputs": [
        {
          "output_type": "execute_result",
          "data": {
            "text/plain": [
              "11.0"
            ]
          },
          "metadata": {},
          "execution_count": 101
        }
      ]
    },
    {
      "cell_type": "code",
      "source": [
        "#box_num에 숫자만 넣자는 약속을 했어요 누군가 한글 표기법으로 숫자를 넣었습니다.\n",
        "\n",
        "box_num = \"하나\"\n",
        "box_num = box_num + 1\n",
        "box_num +=1\n",
        "print(box_num)"
      ],
      "metadata": {
        "colab": {
          "base_uri": "https://localhost:8080/",
          "height": 251
        },
        "id": "IaxHnTf_qqVc",
        "outputId": "10b54603-d178-44b0-8f47-cfc285371e22"
      },
      "execution_count": 103,
      "outputs": [
        {
          "output_type": "error",
          "ename": "TypeError",
          "evalue": "ignored",
          "traceback": [
            "\u001b[0;31m---------------------------------------------------------------------------\u001b[0m",
            "\u001b[0;31mTypeError\u001b[0m                                 Traceback (most recent call last)",
            "\u001b[0;32m<ipython-input-103-af617fcfc5fb>\u001b[0m in \u001b[0;36m<cell line: 4>\u001b[0;34m()\u001b[0m\n\u001b[1;32m      2\u001b[0m \u001b[0;34m\u001b[0m\u001b[0m\n\u001b[1;32m      3\u001b[0m \u001b[0mbox_num\u001b[0m \u001b[0;34m=\u001b[0m \u001b[0;34m\"하나\"\u001b[0m\u001b[0;34m\u001b[0m\u001b[0;34m\u001b[0m\u001b[0m\n\u001b[0;32m----> 4\u001b[0;31m \u001b[0mbox_num\u001b[0m \u001b[0;34m=\u001b[0m \u001b[0mbox_num\u001b[0m \u001b[0;34m+\u001b[0m \u001b[0;36m1\u001b[0m\u001b[0;34m\u001b[0m\u001b[0;34m\u001b[0m\u001b[0m\n\u001b[0m\u001b[1;32m      5\u001b[0m \u001b[0mbox_num\u001b[0m \u001b[0;34m+=\u001b[0m\u001b[0;36m1\u001b[0m\u001b[0;34m\u001b[0m\u001b[0;34m\u001b[0m\u001b[0m\n\u001b[1;32m      6\u001b[0m \u001b[0mprint\u001b[0m\u001b[0;34m(\u001b[0m\u001b[0mbox_num\u001b[0m\u001b[0;34m)\u001b[0m\u001b[0;34m\u001b[0m\u001b[0;34m\u001b[0m\u001b[0m\n",
            "\u001b[0;31mTypeError\u001b[0m: can only concatenate str (not \"int\") to str"
          ]
        }
      ]
    },
    {
      "cell_type": "code",
      "source": [
        "type(box_num)"
      ],
      "metadata": {
        "colab": {
          "base_uri": "https://localhost:8080/"
        },
        "id": "b2NojaQDrWTA",
        "outputId": "037fc764-9ecc-4da2-cbb6-47c69c5f9601"
      },
      "execution_count": 105,
      "outputs": [
        {
          "output_type": "execute_result",
          "data": {
            "text/plain": [
              "str"
            ]
          },
          "metadata": {},
          "execution_count": 105
        }
      ]
    },
    {
      "cell_type": "code",
      "source": [
        "type(1)\n",
        "type(1.2)"
      ],
      "metadata": {
        "colab": {
          "base_uri": "https://localhost:8080/"
        },
        "id": "Xr2Bm812rhq_",
        "outputId": "af070d16-e9dc-4a7a-ce05-bb8a904d739f"
      },
      "execution_count": 108,
      "outputs": [
        {
          "output_type": "execute_result",
          "data": {
            "text/plain": [
              "float"
            ]
          },
          "metadata": {},
          "execution_count": 108
        }
      ]
    },
    {
      "cell_type": "code",
      "source": [
        "# 2여야 하는데 형변환을 이용 (형태를 변환)\n",
        "\n",
        "4 / 2"
      ],
      "metadata": {
        "colab": {
          "base_uri": "https://localhost:8080/"
        },
        "id": "2sEHVz5nrvHB",
        "outputId": "f4d272d8-9d2f-420e-be32-a7afa2d0c9d3"
      },
      "execution_count": 109,
      "outputs": [
        {
          "output_type": "execute_result",
          "data": {
            "text/plain": [
              "2.0"
            ]
          },
          "metadata": {},
          "execution_count": 109
        }
      ]
    },
    {
      "cell_type": "markdown",
      "source": [
        "### 말 그대로 형태를 변형한다 : 형변환\n",
        "\n",
        "int, float\n",
        "int -> float    ex) 5 -> 5.0 float(5)"
      ],
      "metadata": {
        "id": "GfTv6A6xr9fE"
      }
    },
    {
      "cell_type": "code",
      "source": [
        "print(float(5))\n",
        "print(int(5.0))"
      ],
      "metadata": {
        "colab": {
          "base_uri": "https://localhost:8080/"
        },
        "id": "PoVh_q2rsOQV",
        "outputId": "1d40c3c9-69ae-4a94-a749-89932e85c8bb"
      },
      "execution_count": 113,
      "outputs": [
        {
          "output_type": "stream",
          "name": "stdout",
          "text": [
            "5.0\n",
            "5\n"
          ]
        }
      ]
    },
    {
      "cell_type": "code",
      "source": [
        "나이 = 10\n",
        "type(나이)\n",
        "print(dir(나이))"
      ],
      "metadata": {
        "colab": {
          "base_uri": "https://localhost:8080/"
        },
        "id": "mNSdeK5Jsf5O",
        "outputId": "3fe31aa5-f8f9-4666-878d-1be66b0ef404"
      },
      "execution_count": 115,
      "outputs": [
        {
          "output_type": "stream",
          "name": "stdout",
          "text": [
            "['__abs__', '__add__', '__and__', '__bool__', '__ceil__', '__class__', '__delattr__', '__dir__', '__divmod__', '__doc__', '__eq__', '__float__', '__floor__', '__floordiv__', '__format__', '__ge__', '__getattribute__', '__getnewargs__', '__gt__', '__hash__', '__index__', '__init__', '__init_subclass__', '__int__', '__invert__', '__le__', '__lshift__', '__lt__', '__mod__', '__mul__', '__ne__', '__neg__', '__new__', '__or__', '__pos__', '__pow__', '__radd__', '__rand__', '__rdivmod__', '__reduce__', '__reduce_ex__', '__repr__', '__rfloordiv__', '__rlshift__', '__rmod__', '__rmul__', '__ror__', '__round__', '__rpow__', '__rrshift__', '__rshift__', '__rsub__', '__rtruediv__', '__rxor__', '__setattr__', '__sizeof__', '__str__', '__sub__', '__subclasshook__', '__truediv__', '__trunc__', '__xor__', 'as_integer_ratio', 'bit_count', 'bit_length', 'conjugate', 'denominator', 'from_bytes', 'imag', 'numerator', 'real', 'to_bytes']\n"
          ]
        }
      ]
    },
    {
      "cell_type": "code",
      "source": [
        "print(나이.bit_length())\n",
        "print(bin(나이))"
      ],
      "metadata": {
        "colab": {
          "base_uri": "https://localhost:8080/"
        },
        "id": "jlc4jnEms-06",
        "outputId": "14ad271e-fe1b-4da9-87ef-60e9f7ea985e"
      },
      "execution_count": 117,
      "outputs": [
        {
          "output_type": "stream",
          "name": "stdout",
          "text": [
            "4\n",
            "0b1010\n"
          ]
        }
      ]
    },
    {
      "cell_type": "markdown",
      "source": [
        "메소드 / 내장 함수 / 함수\n",
        "이것의 정의를 알 수 있어야 한다.."
      ],
      "metadata": {
        "id": "zfY7n-4EtOY2"
      }
    }
  ]
}